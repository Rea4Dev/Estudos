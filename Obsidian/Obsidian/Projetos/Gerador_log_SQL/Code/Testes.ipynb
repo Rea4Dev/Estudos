{
 "cells": [
  {
   "cell_type": "markdown",
   "metadata": {
    "vscode": {
     "languageId": "plaintext"
    }
   },
   "source": [
    "# **Teste 01**\n",
    "\n",
    "- **Condição de teste**: \"*historico.csv*\" vazio.\n",
    "- **Ação no teste**: Executá-do."
   ]
  },
  {
   "cell_type": "markdown",
   "metadata": {},
   "source": [
    "## Resultados observado = Resultado desejado\n",
    "- O arquivo é escrito em .csv com cabeçalho e em ordem de acordo com a consulta SQL."
   ]
  },
  {
   "cell_type": "markdown",
   "metadata": {},
   "source": [
    "### historico.csv"
   ]
  },
  {
   "cell_type": "code",
   "execution_count": null,
   "metadata": {
    "vscode": {
     "languageId": "csv"
    }
   },
   "outputs": [],
   "source": [
    "BEHAVIOR,STATUS,PARAMETER_IDENTIFIER,ACTION_ID,TEST_ID,USER_ID,LAST_UPDATE_TIME,OP,MMC,OPERATION_ID,XML_NAME\n",
    "CONFIG,PASSED,A,32551956,37179,9994,2025-02-25 18:54:34.983000,50839087,1597,3140952,1.0\n",
    "CONFIG,PASSED,B,32551959,37179,9994,2025-02-25 18:54:34.983000,50839087,1597,3140952,1.0\n",
    "CONFIG,PASSED,C,32551961,37179,9994,2025-02-25 18:54:34.983000,50839087,1597,3140952,1.0\n",
    "VALIDATE,FAILED,D,32551965,37179,9994,2025-02-25 18:54:34.983000,50839087,1597,3140952,1.0\n",
    "VALIDATE,FAILED,E,32551955,37179,9994,2025-02-25 18:54:34.983000,50839087,1597,3140952,1.0\n",
    "VALIDATE,FAILED,F,32551958,37179,9994,2025-02-25 18:54:34.983000,50839087,1597,3140952,1.0\n",
    "VALIDATE,PASSED,G,32551964,37179,9994,2025-02-25 18:54:34.983000,50839087,1597,3140952,1.0\n",
    "VALIDATE,,H,32551963,37179,9994,2025-02-25 18:54:34.983000,50839087,1597,3140952,1.0\n",
    "VALIDATE,,I,32551957,37179,9994,2025-02-25 18:54:34.983000,50839087,1597,3140952,1.0\n",
    "VALIDATE,,J,32551960,37179,9994,2025-02-25 18:54:34.983000,50839087,1597,3140952,1.0\n",
    "VALIDATE,,H,32551963,37179,9994,2025-02-25 18:54:34.983000,50839087,1597,3140952,1.0\n",
    "VALIDATE,,I,32551957,37179,9994,2025-02-25 18:54:34.983000,50839087,1597,3140952,1.0\n",
    "VALIDATE,,J,32551960,37179,9994,2025-02-25 18:54:34.983000,50839087,1597,3140952,1.0\n"
   ]
  },
  {
   "cell_type": "markdown",
   "metadata": {},
   "source": [
    "### Código usado"
   ]
  },
  {
   "cell_type": "code",
   "execution_count": null,
   "metadata": {
    "vscode": {
     "languageId": "csv"
    }
   },
   "outputs": [],
   "source": [
    "# O código está baseado no meu algoritmo, no Obsidian. Os comentários acima dos blocos descrevem uma etapa do fluxo e os comentários após códigos são para auxiliar no entendimento.\n",
    "\n",
    "# Início\n",
    "import cx_Oracle\n",
    "import csv\n",
    "import os\n",
    "\n",
    "# Retângulo 01\n",
    "consulta = \"\"\"\n",
    "SELECT * FROM (\n",
    "    SELECT its_actions.behavior,\n",
    "           its_actions.status,\n",
    "           its_actions.parameter_identifier,\n",
    "           its_actions.action_id,\n",
    "           AB.test_id,\n",
    "           AB.user_id,\n",
    "           AB.last_update_time,\n",
    "           AB.op,\n",
    "           AB.mmc,\n",
    "           AB.operation_id,\n",
    "           AB.xml_name\n",
    "    FROM its_actions\n",
    "    FULL OUTER JOIN (\n",
    "        SELECT its_test.*,\n",
    "               its_operations.operation_id,\n",
    "               its_operations.xml_name\n",
    "        FROM its_test\n",
    "        FULL OUTER JOIN its_operations ON its_test.test_id = its_operations.test_id\n",
    "        WHERE its_test.last_update_time IS NOT NULL\n",
    "    ) AB ON its_actions.operation_id = AB.operation_id\n",
    "    WHERE TEST_ID is not null\n",
    "    ORDER BY LAST_UPDATE_TIME DESC, AB.xml_name ASC, its_actions.parameter_identifier ASC\n",
    ") WHERE ROWNUM <= 10\n",
    "\"\"\" # nao pode possuir ponto e vírgula no final, framework não compreende\n",
    "cursor_Oracle = cx_Oracle.connect(user='its_man', password='maint#its06', dsn=cx_Oracle.makedsn('ora-qa37', 1521, service_name='qa37')).cursor() # .cursor cria um objeto que permite executar comandos SQL e gerenciar os resultados de consultas\n",
    "\n",
    "# Retângulo 02\n",
    "cursor_Oracle.execute(consulta) # consulta é feita\n",
    "armazenagem_intermediaria = cursor_Oracle.fetchall() # arnazenagem intermediaria dos resultados\n",
    "\n",
    "# Condicional 1\n",
    "if (os.path.getsize(\"./historico.csv\") == 0):\n",
    "\n",
    "# Condicional 1 \"Sim\"\n",
    "    with open ('historico.csv', 'w', newline='') as documento: # documento criado/sobrescrito\n",
    "        csv.writer(documento).writerow(coluna[0] for coluna in cursor_Oracle.description) # escreve cabeçalho\n",
    "        csv.writer(documento).writerows(armazenagem_intermediaria) # escreve as linhas com base na armazenagem intermediaria. Linah 14 garante quebra de linha entre infos.\n",
    "        print(\"\\n\\n ele é zero, sobrescrito \\n\\n\") # controle. Apagar\n",
    "else:\n",
    "\n",
    "# Condicional 1 \"Não\"\n",
    "    with open ('historico.csv', 'r+', newline='', encoding='utf-8') as documento:\n",
    "        i = 0\n",
    "        lista_documento = list(csv.reader(documento))\n",
    "\n",
    "        for linha in armazenagem_intermediaria:\n",
    "            i += 1\n",
    "            print(f'Comparando \"{linha[1]}\" (linha {i+1} do servidor) com \"{lista_documento[i][1]}\" (do histórico)...') \n",
    "\n",
    "            if (int(linha[3]) == int(lista_documento[i][3])): # Condicional 2 | Compara as chaves primarias ACTION_ID        \n",
    "                if (linha[1] == lista_documento[i][1]): # Condicional 2 \"Sim\" | # Condicional 3 | # compara STATUS\n",
    "                    print(\"São iguais. Ignorar.\\n\") # Condicional 3 \"Sim\"\n",
    "                else:\n",
    "                    print(\"Não são iguais! Salvar\\n\") # Condicional 3 \"Não\"\n",
    "                    csv.writer(documento).writerow(linha) \n",
    "            else:\n",
    "                print(f'Chave primária ACTION_ID da linha bd ({linha[3]}) diferentes para esta linha em hist ({lista_documento[i][3]}). Ignorar\\n') # Condicional 2 \"Não\"    \n",
    "        \n",
    "# Não presente. Apenas para fechar.\n",
    "cursor_Oracle.close()\n",
    "cx_Oracle.connect(user='its_man', password='maint#its06', dsn=cx_Oracle.makedsn('ora-qa37', 1521, service_name='qa37')).close()"
   ]
  },
  {
   "cell_type": "markdown",
   "metadata": {},
   "source": [
    "### Saída Terminal"
   ]
  },
  {
   "cell_type": "code",
   "execution_count": null,
   "metadata": {
    "vscode": {
     "languageId": "csv"
    }
   },
   "outputs": [],
   "source": [
    "Comparando \"PASSED\" (linha 2 do servidor) com \"PASSED\" (do histórico)...\n",
    "São iguais. Ignorar.\n",
    "\n",
    "Comparando \"PASSED\" (linha 3 do servidor) com \"PASSED\" (do histórico)...\n",
    "São iguais. Ignorar.\n",
    "\n",
    "Comparando \"PASSED\" (linha 4 do servidor) com \"PASSED\" (do histórico)...\n",
    "São iguais. Ignorar.\n",
    "\n",
    "Comparando \"FAILED\" (linha 5 do servidor) com \"FAILED\" (do histórico)...\n",
    "São iguais. Ignorar.\n",
    "\n",
    "Comparando \"FAILED\" (linha 6 do servidor) com \"FAILED\" (do histórico)...\n",
    "São iguais. Ignorar.\n",
    "\n",
    "Comparando \"FAILED\" (linha 7 do servidor) com \"FAILED\" (do histórico)...\n",
    "São iguais. Ignorar.\n",
    "\n",
    "Comparando \"PASSED\" (linha 8 do servidor) com \"PASSED\" (do histórico)...\n",
    "São iguais. Ignorar.\n",
    "\n",
    "Comparando \"None\" (linha 9 do servidor) com \"\" (do histórico)...\n",
    "Não são iguais! Salvar\n",
    "\n",
    "Comparando \"None\" (linha 10 do servidor) com \"\" (do histórico)...\n",
    "Não são iguais! Salvar\n",
    "\n",
    "Comparando \"None\" (linha 11 do servidor) com \"\" (do histórico)...\n",
    "Não são iguais! Salvar"
   ]
  },
  {
   "cell_type": "markdown",
   "metadata": {},
   "source": [
    "# __________________________________________________________________________________________"
   ]
  },
  {
   "cell_type": "markdown",
   "metadata": {},
   "source": [
    "Problemas em potencial: \n",
    "- Está dependendo de ordem?\n",
    "<br>**R:** <span style=\"color:#C82F4B\">Sim, preciso mudar.</span>\n",
    "<br>**R:** <span style=\"color:#6990C3\">Preciso fazer depender de ID.</span>\n",
    "\n",
    "- E se eu alterar o tamanho da análise?\n",
    "\n",
    "- E se a lista do historico começar com elementos diferentes do BD?"
   ]
  }
 ],
 "metadata": {
  "language_info": {
   "name": "python"
  }
 },
 "nbformat": 4,
 "nbformat_minor": 2
}
